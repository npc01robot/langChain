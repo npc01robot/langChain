{
 "cells": [
  {
   "cell_type": "code",
   "outputs": [],
   "source": [
    "import settings\n",
    "import os\n",
    "os.environ[\"OPENAI_API_KEY\"] = settings.configration[\"OPENAI_API_KEY\"]"
   ],
   "metadata": {
    "collapsed": false,
    "ExecuteTime": {
     "end_time": "2024-03-15T02:59:45.739754300Z",
     "start_time": "2024-03-15T02:59:45.726345100Z"
    }
   },
   "id": "1c3d7bef6170df7c",
   "execution_count": 25
  },
  {
   "cell_type": "markdown",
   "source": [],
   "metadata": {
    "collapsed": false
   },
   "id": "fa3e2ab36e8ae184"
  },
  {
   "cell_type": "markdown",
   "source": [
    "### 使用 LangChain 完成一次问答"
   ],
   "metadata": {
    "collapsed": false
   },
   "id": "b2b8177f3d6df21f"
  },
  {
   "cell_type": "code",
   "outputs": [
    {
     "data": {
      "text/plain": "AIMessage(content='人工智能是一种革命性的技术，它在许多领域都取得了巨大的成就，为人类带来了许多便利和提升。但同时也存在一些问题，如数据隐私、就业岗位减少等。因此人工智能需要在技术发展的同时注重伦理和社会影响，才能更好地造福人类。总的来说，人工智能是一种有着巨大潜力和挑战的技术。', response_metadata={'finish_reason': 'stop', 'logprobs': None})"
     },
     "execution_count": 4,
     "metadata": {},
     "output_type": "execute_result"
    }
   ],
   "source": [
    "from langchain_openai import ChatOpenAI\n",
    "llm = ChatOpenAI()\n",
    "llm.invoke(\"怎么评价人工智能?\")"
   ],
   "metadata": {
    "collapsed": false,
    "ExecuteTime": {
     "end_time": "2024-03-15T02:46:03.878885Z",
     "start_time": "2024-03-15T02:45:59.896028800Z"
    }
   },
   "id": "5a05ae9071d69488",
   "execution_count": 4
  },
  {
   "cell_type": "markdown",
   "source": [
    "### 通过 Google 搜索并返回答案"
   ],
   "metadata": {
    "collapsed": false
   },
   "id": "ebc9c73a8006721a"
  },
  {
   "cell_type": "code",
   "outputs": [],
   "source": [
    "import settings\n",
    "import os\n",
    "os.environ[\"SERPAPI_API_KEY\"] = settings.configration[\"SERPAPI_API_KEY\"]"
   ],
   "metadata": {
    "collapsed": false,
    "ExecuteTime": {
     "end_time": "2024-03-15T02:59:55.725913Z",
     "start_time": "2024-03-15T02:59:55.694081800Z"
    }
   },
   "id": "ba212eacf8f031a5",
   "execution_count": 26
  },
  {
   "cell_type": "code",
   "outputs": [
    {
     "name": "stdout",
     "output_type": "stream",
     "text": [
      "\n",
      "\n",
      "\u001B[1m> Entering new AgentExecutor chain...\u001B[0m\n",
      "\u001B[32;1m\u001B[1;3m I should use a search engine to find the answer and then search for historical events that happened on this date.\n",
      "Action: Search\n",
      "Action Input: \"today's date\"\u001B[0m\n",
      "Observation: \u001B[36;1m\u001B[1;3mThursday, March 14, 2024\u001B[0m\n",
      "Thought:\u001B[32;1m\u001B[1;3m Now I know the date, I can search for historical events that happened on this date.\n",
      "Action: Search\n",
      "Action Input: \"historical events on March 14\"\u001B[0m\n",
      "Observation: \u001B[36;1m\u001B[1;3m['Historical Events on March 14 · Battle of Montiel · Battle of Ivry · Convention to Pick Scottish Monarch · Cotton Gin Machine · Pope Pius VII · Henry Addington ...', \"Discover what happened on March 14 with HISTORY's summaries of major events, anniversaries, famous births and notable deaths.\", 'The first Pan-American conference convened in Panama with representatives from Mexico, Colombia, Peru, and Central America in attendance. 1794.', 'On this day - March 14 ; 1991 The Birmingham Six are released ; 1979 Factory Plane Crash in China ; 1960 The leaders of Germany and Israel confer for the first ...', '1921 – Bernard Ryan executed Irish republican (b. 1901) ; 1923 – Charlie Daly and three other Irish Republicans are executed by Irish Free State forces(b. 1896) ...', 'What happened on March 14? Check out our in-depth archive of events and famous birthdays to learn more about this day in history.', \"Did you know that March 14 is known as Potato Chip Day? Here you'll learn facts about Mar 14, including events that happened on this day throughout history.\", 'Major Events · King Henry IV of France at the Battle of Ivry. Battle of Ivry · 1794 Eli Whitney patents the cotton gin machine revolutionizing the cotton ...', 'DEATHS · 1803 – Friedrich Gottlieb Klopstock (German poet) · 1823 – John Jervis, 1st Earl of St Vincent (English Admiral) · 1883 – Karl Marx (German philosopher).', 'March 14 significant news events for this day include United Nations Forces Recapture Seoul, Jack Ruby Convicted of Murder, Birmingham Six Released from ...']\u001B[0m\n",
      "Thought:\u001B[32;1m\u001B[1;3m I now know the final answer.\n",
      "Final Answer: Today's date is Thursday, March 14, 2024. Some significant historical events that have taken place on this date include the first Pan-American conference in 1794, the execution of Irish republicans in 1921 and 1923, and the patenting of the cotton gin machine in 1794. Additionally, on this day in 1991, the Birmingham Six were released and in 1979, there was a factory plane crash in China.\u001B[0m\n",
      "\n",
      "\u001B[1m> Finished chain.\u001B[0m\n"
     ]
    },
    {
     "data": {
      "text/plain": "\"Today's date is Thursday, March 14, 2024. Some significant historical events that have taken place on this date include the first Pan-American conference in 1794, the execution of Irish republicans in 1921 and 1923, and the patenting of the cotton gin machine in 1794. Additionally, on this day in 1991, the Birmingham Six were released and in 1979, there was a factory plane crash in China.\""
     },
     "execution_count": 29,
     "metadata": {},
     "output_type": "execute_result"
    }
   ],
   "source": [
    "from langchain.agents import load_tools\n",
    "from langchain.agents import initialize_agent\n",
    "from langchain.llms import OpenAI\n",
    "from langchain.agents import AgentType\n",
    "\n",
    "# 加载 OpenAI 模型\n",
    "llm = OpenAI(temperature=0,max_tokens=2048) \n",
    "\n",
    " # 加载 serpapi 工具\n",
    "tools = load_tools([\"serpapi\"])\n",
    "# 工具加载后都需要初始化，verbose 参数为 True，会打印全部的执行详情\n",
    "agent = initialize_agent(tools, llm, agent=AgentType.ZERO_SHOT_REACT_DESCRIPTION, verbose=True)\n",
    "\n",
    "# 运行 agent\n",
    "agent.run(\"What's the date today? What great events have taken place today in history?\")"
   ],
   "metadata": {
    "collapsed": false,
    "ExecuteTime": {
     "end_time": "2024-03-15T03:03:37.066991400Z",
     "start_time": "2024-03-15T03:03:08.925262Z"
    }
   },
   "id": "9b08ecb0a178b75d",
   "execution_count": 29
  },
  {
   "cell_type": "markdown",
   "source": [
    "### 对超长文本进行总结"
   ],
   "metadata": {
    "collapsed": false
   },
   "id": "ae98500bbe2e1560"
  },
  {
   "cell_type": "code",
   "outputs": [
    {
     "name": "stderr",
     "output_type": "stream",
     "text": [
      "[nltk_data] Downloading package punkt to\n",
      "[nltk_data]     C:\\Users\\HP\\AppData\\Roaming\\nltk_data...\n",
      "[nltk_data]   Unzipping tokenizers\\punkt.zip.\n",
      "[nltk_data] Downloading package averaged_perceptron_tagger to\n",
      "[nltk_data]     C:\\Users\\HP\\AppData\\Roaming\\nltk_data...\n",
      "[nltk_data]   Unzipping taggers\\averaged_perceptron_tagger.zip.\n"
     ]
    },
    {
     "name": "stdout",
     "output_type": "stream",
     "text": [
      "documents:1\n",
      "documents:319\n",
      "\n",
      "\n",
      "\u001B[1m> Entering new RefineDocumentsChain chain...\u001B[0m\n",
      "\n",
      "\n",
      "\u001B[1m> Entering new LLMChain chain...\u001B[0m\n",
      "Prompt after formatting:\n",
      "\u001B[32;1m\u001B[1;3mWrite a concise summary of the following:\n",
      "\n",
      "\n",
      "\"声明：本书为爱奇电子书(www.i7wu.cn)的用户上传至其在本站的存储空间，本站只提供TXT全集电子书存储服务以及免费下载服务，以下作品内容之版权与本站无任何关系。\n",
      "\n",
      "---------------------------用户上传之内容开始--------------------------------\n",
      "\n",
      "《地藏心经》\n",
      "\n",
      "作者：铸剑师无名\n",
      "\n",
      "正文\n",
      "\n",
      "第一第十五章 天下势，渡江（一）\n",
      "\n",
      "“渝州陆家？！”\n",
      "\n",
      "虽然原本的那个秦逸，每日只知道苦读诗书，从未与商贾们打过交道，但是渝州陆家的名声，他还是知道。\n",
      "\n",
      "陆家三代为官，官至两江总督，五代经商，百年经营，家私何止千万，直至今朝，俨然已是江南一等士族大户。渝州陆氏以皮货起家，乃是西北之地数得上号的商户，西北之地所产的皮货，有三成经他们之手卖往江南。\n",
      "\n",
      "若只是如此，陆氏也不过是一头肥硕的羔羊，只待他人宰杀。\n",
      "\n",
      "陆氏三代家主都极具雄韬伟略，以千金买官，以万金开路，更是在蛮夷南侵之时，倾尽家资招兵买马，拒十万蛮夷铁骑于侯关外，短短三年间，便一手扶持起了都护大将军——苏和，抗夷大将军——邓昌。\"\n",
      "\n",
      "\n",
      "CONCISE SUMMARY:\u001B[0m\n",
      "\n",
      "\u001B[1m> Finished chain.\u001B[0m\n",
      "\n",
      "\n",
      "\u001B[1m> Entering new LLMChain chain...\u001B[0m\n",
      "Prompt after formatting:\n",
      "\u001B[32;1m\u001B[1;3mYour job is to produce a final summary.\n",
      "We have provided an existing summary up to a certain point: \n",
      "This is a disclaimer stating that the book \"Di Zang Xin Jing\" was uploaded by a user on the website www.i7wu.cn and the website only provides storage and free download services for TXT e-books. The copyright of the book has no relation to the website. The book is about the story of a family called the \"Lu family\" in the city of Yuzhou, who were known for their wealth and power. \n",
      "We have the opportunity to refine the existing summary (only if needed) with some more context below.\n",
      "------------\n",
      "以姻亲握住兵权后，陆氏子弟一路仕途平坦，百年来，人才辈出，更有陆云，陆羽等良将贤才。\n",
      "\n",
      "而今，已是雄踞渝、豫两地的世家阀门，这江南数万水军，便是掌握在这一代的陆家族长手中。\n",
      "\n",
      "朝廷无权，皇帝无兵，短短十年，南朝便形同虚设，各地封疆大使，世家阀门手握重兵，除了京都三省还在南朝皇族手中，其他俨然已经分地而治。\n",
      "\n",
      "西北，邓、李、苏、何、公孙五家世家阀门割据一方，联手共抗蛮夷合并后的金国。\n",
      "\n",
      "南方，陆、熊、刘、郑四家百年士族据守江南，与中山国相持已然数十载。\n",
      "\n",
      "东方，京都三省雄兵三十万，黑甲铁骑八千，时刻防范着秦国有所异动。（备注：黑甲铁骑配备长枪，马刀，黑铁重甲，所乘骑的乃是西域宛马，是南朝立国时便赫赫有名的百战铁骑。曾以八千黑甲铁骑破中山国十万雄兵而名动天下。）\n",
      "\n",
      "这些，便是张狂融合完原本那个‘秦逸’的记忆，而整理出的天下大势。\n",
      "\n",
      "**************************************************************************\n",
      "\n",
      "“少爷。这船都被陆家车行的人包下了。”\n",
      "------------\n",
      "Given the new context, refine the original summary.\n",
      "If the context isn't useful, return the original summary.\u001B[0m\n",
      "\n",
      "\u001B[1m> Finished chain.\u001B[0m\n",
      "\n",
      "\n",
      "\u001B[1m> Entering new LLMChain chain...\u001B[0m\n",
      "Prompt after formatting:\n",
      "\u001B[32;1m\u001B[1;3mYour job is to produce a final summary.\n",
      "We have provided an existing summary up to a certain point: \n",
      "This is a disclaimer stating that the book \"Di Zang Xin Jing\" was uploaded by a user on the website www.i7wu.cn and the website only provides storage and free download services for TXT e-books. The copyright of the book has no relation to the website. The book is about the story of a powerful family, the \"Lu family,\" in the city of Yuzhou. Through strategic marriages and military alliances, the Lu family has risen to become one of the most influential and wealthy clans in the region. They control thousands of water troops in the south, while other powerful families have carved out their own territories, and the emperor and court have little control outside of the capital. The Lu family's dominance is constantly threatened by rival factions and neighboring kingdoms, and they maintain a strong army, including the renowned Black Iron Cavalry, to protect their interests. This is the world depicted in the book, as compiled by the protagonist's memories and observations.\n",
      "We have the opportunity to refine the existing summary (only if needed) with some more context below.\n",
      "------------\n",
      "不过一会儿，秦汉便略显沮丧地走了回来。渝州陆家势大，而今就连附属下面的陆家车行，身份也是水涨船高。自从秦逸父亲病逝后，秦家家道中落，与陆家比不得，况且此地也并非西北所属，秦家纵然还有些人脉，却也用不上。\n",
      "\n",
      "所以，为了避免麻烦，他也没敢去与陆家争船。\n",
      "\n",
      "“嗯。”秦逸默然，脸色平静，对着秦汉点点头，也未多说些什么。虽然他心中也想早点赶往渝州，在年关前，布置些家业，好早些安定下来。“我知道了。”\n",
      "\n",
      "“敢问公子贵姓？”\n",
      "\n",
      "这时，秦逸身旁的中年商人，突然出口问道。原来他见秦逸，wｗ W.l6Ｋ .cN面容俊逸，又是一身锦衣华服，虽然风尘仆仆，但是谈吐举止中，无一不带着士族风范，不由得起了巴结之心。\n",
      "\n",
      "南朝商人地位虽然要略高于前朝列代，但是依旧排在最后。“士农工商”，商人自古就有着“不劳而获”之名。\n",
      "\n",
      "“姓秦。”秦逸面色淡然，转头看了中年商人一眼，出声道。\n",
      "\n",
      "他来于后世，对商人并无轻视之意，所以也没有摆什么士族的架子。\n",
      "\n",
      "中年商人闻言微微一愣，随即动容，隐隐带着喜悦，他躬腰低头，对着秦逸恭恭敬敬地行了一个大礼，而后出声询问道：“敢问可是晋中秦家？！”\n",
      "------------\n",
      "Given the new context, refine the original summary.\n",
      "If the context isn't useful, return the original summary.\u001B[0m\n",
      "\n",
      "\u001B[1m> Finished chain.\u001B[0m\n",
      "\n",
      "\n",
      "\u001B[1m> Entering new LLMChain chain...\u001B[0m\n",
      "Prompt after formatting:\n",
      "\u001B[32;1m\u001B[1;3mYour job is to produce a final summary.\n",
      "We have provided an existing summary up to a certain point: \n",
      "\n",
      "The website www.i7wu.cn provides storage and free download services for the book \"Di Zang Xin Jing\" but makes no claim to owning the copyright. The book follows the powerful Lu family in the city of Yuzhou, who have risen to prominence through strategic marriages and military alliances. They are constantly threatened by rival factions and maintain a strong army, including the renowned Black Iron Cavalry. The protagonist, Qin Yi, faces difficulties in his own family as they are not as influential as the Lu family. When a middle-aged merchant recognizes Qin Yi as a member of the prestigious Qin family, he eagerly tries to establish a connection. Despite being from a noble family, Qin Yi remains humble and agrees to help the merchant. \n",
      "We have the opportunity to refine the existing summary (only if needed) with some more context below.\n",
      "------------\n",
      "“正是！”说话的确是秦汉，秦家在西北之地声名远播，善名百里，虽然手中无兵无权，但是在西北士族中还是举足轻重，俨然已成精神领袖。\n",
      "\n",
      "“敢问，可是秦逸公子？！”中年商人对着秦逸又是一个大礼，声音颇为颤抖地说道。此番回程，他便听说了秦家少爷要前往渝州，却想不到自己居然正好遇上！\n",
      "\n",
      "“五代行善，何其不易！夫天下之人，独晋中秦家也！”……\n",
      "\n",
      "秦家善名，至今已然百年有余。\n",
      "\n",
      "“嗯。”秦逸点头，并未多说。一路行来，他已经陆续感受到了秦家在这个世界上的声望。\n",
      "\n",
      "一世行善容易，但是五代行善，中原数千年来，独此一家。就连数十年前，蛮夷赫连氏族入侵中原，都刻意避开了晋中秦家。在草原蛮族的教义中，屠戮真正的善人，会被狼神抛弃，灵魂永世不得安息。\n",
      "\n",
      "************************************************************************\n",
      "\n",
      "就在秦逸准备寻一处清净地，安安静静的等待陆家车行的人先走时，远处，一团人簇拥着一个青衫老者往这边走来。而为首的，正是昨日在路上遇到的那个满脸扎须的壮年汉子。\n",
      "------------\n",
      "Given the new context, refine the original summary.\n",
      "If the context isn't useful, return the original summary.\u001B[0m\n",
      "\n",
      "\u001B[1m> Finished chain.\u001B[0m\n",
      "\n",
      "\n",
      "\u001B[1m> Entering new LLMChain chain...\u001B[0m\n",
      "Prompt after formatting:\n",
      "\u001B[32;1m\u001B[1;3mYour job is to produce a final summary.\n",
      "We have provided an existing summary up to a certain point: \n",
      "\n",
      "The website www.i7wu.cn provides storage and free download services for the book \"Di Zang Xin Jing\" but makes no claim to owning the copyright. The book follows the powerful Lu family in the city of Yuzhou, who have risen to prominence through strategic marriages and military alliances. They are constantly threatened by rival factions and maintain a strong army, including the renowned Black Iron Cavalry. The protagonist, Qin Yi, faces difficulties in his own family as they are not as influential as the Lu family. When a middle-aged merchant recognizes Qin Yi as a member of the prestigious Qin family, he eagerly tries to establish a connection. Despite being from a noble family, Qin Yi remains humble and agrees to help the merchant. As he travels, Qin Yi begins to realize the reputation and influence of his family, who have been known for their benevolence for generations. As he waits for the Lu family's caravan to pass, he is approached by a group of people led by a bearded man he had met on the road the day before.\n",
      "We have the opportunity to refine the existing summary (only if needed) with some more context below.\n",
      "------------\n",
      "“那便是陆家车行的管事。”一旁的中年商人适时的报出了那位青衫老者的身份。\n",
      "\n",
      "“陆氏车行？管事？”\n",
      "\n",
      "秦逸眉头一挑，不由得心头一动。若是等到陆家车行货物运完，这一来一去，天怕是已经摸黑了，想来渡江只能等到明晚。既然面前，就是陆家车行的管事，何不找他试试，看看能不能一并登船渡江。\n",
      "\n",
      "想到这，秦逸略微整了整衣衫，脸上挂着一副淡定的笑容，迎了上去。\n",
      "\n",
      "“长者有礼了！”秦逸走到人群前，对着为首的青衫老者微微一拱手，行礼道。\n",
      "\n",
      "“你他……”眼前突然多出了一个人来，宋老虎不由一愣，他心底正火着呢~。对于这个突然蹦出来的拦路者，他可是一点好感都没有。可是待他看清来人的模样，又不由微微一愣神。面容俊逸，星目剑眉，身形略显消瘦，一身褐色长衫，虽然沾染风尘，可是也遮不住那一骨子的儒雅正气！\n",
      "\n",
      "“是个读书人。”宋老虎心中不由的想到。他与其他的武林中人不同，他这个人佩服读书人，当然，是那种一身正气的读书人。\n",
      "\n",
      "所以，他在看清楚秦逸的模样后，又不由的将最后那个“妈”字，生生地咽了下去。\n",
      "\n",
      "青衫老者闻言一愣，待他抬头看清秦逸的模样，觉察出他身上那一股子士族风范后，这才拱手回礼道：“公子何事？”\n",
      "------------\n",
      "Given the new context, refine the original summary.\n",
      "If the context isn't useful, return the original summary.\u001B[0m\n",
      "\n",
      "\u001B[1m> Finished chain.\u001B[0m\n",
      "\n",
      "\u001B[1m> Finished chain.\u001B[0m\n"
     ]
    },
    {
     "data": {
      "text/plain": "'\\n\\nThe website www.i7wu.cn provides storage and free download services for the book \"Di Zang Xin Jing\" but makes no claim to owning the copyright. The book follows the powerful Lu family in the city of Yuzhou, who have risen to prominence through strategic marriages and military alliances. They are constantly threatened by rival factions and maintain a strong army, including the renowned Black Iron Cavalry. The protagonist, Qin Yi, faces difficulties in his own family as they are not as influential as the Lu family. When a middle-aged merchant recognizes Qin Yi as a member of the prestigious Qin family, he eagerly tries to establish a connection. Despite being from a noble family, Qin Yi remains humble and agrees to help the merchant. As he travels, Qin Yi begins to realize the reputation and influence of his family, who have been known for their benevolence for generations. As he waits for the Lu family\\'s caravan to pass, he is approached by a group of people led by a bearded man he had met on the road the day before. Qin Yi sees an opportunity to potentially secure passage on a ship and decides to approach the bearded man, who turns out to be the manager of the Lu family\\'s shipping company. Qin Yi greets him politely and asks for passage, impressing the manager with his noble demeanor. As they discuss their plans, they are interrupted by another man, who initially appears hostile but is surprised by Qin Yi\\'s scholarly appearance and respectful manner.'"
     },
     "execution_count": 32,
     "metadata": {},
     "output_type": "execute_result"
    }
   ],
   "source": [
    "from langchain.document_loaders import UnstructuredFileLoader\n",
    "from langchain.chains.summarize import load_summarize_chain\n",
    "from langchain.text_splitter import RecursiveCharacterTextSplitter\n",
    "from langchain import OpenAI\n",
    "\n",
    "# 导入文本\n",
    "loader = UnstructuredFileLoader(\"./data/lg_test.txt\")\n",
    "# 将文本转成 Document 对象\n",
    "document = loader.load()\n",
    "print(f'documents:{len(document)}')\n",
    "\n",
    "# 初始化文本分割器\n",
    "text_splitter = RecursiveCharacterTextSplitter(\n",
    "    chunk_size = 500,\n",
    "    chunk_overlap = 0\n",
    ")\n",
    "\n",
    "# 切分文本\n",
    "split_documents = text_splitter.split_documents(document)\n",
    "print(f'documents:{len(split_documents)}')\n",
    "\n",
    "# 加载 llm 模型\n",
    "llm = OpenAI(max_tokens=1500)\n",
    "\n",
    "# 创建总结链\n",
    "chain = load_summarize_chain(llm, chain_type=\"refine\", verbose=True)\n",
    "\n",
    "# 执行总结链，（为了快速演示，只总结前5段）\n",
    "chain.run(split_documents[:5])"
   ],
   "metadata": {
    "collapsed": false,
    "ExecuteTime": {
     "end_time": "2024-03-15T03:09:11.021818800Z",
     "start_time": "2024-03-15T03:08:42.726050200Z"
    }
   },
   "id": "a1b286de92d018f6",
   "execution_count": 32
  },
  {
   "cell_type": "markdown",
   "source": [
    "### 本地知识库"
   ],
   "metadata": {
    "collapsed": false
   },
   "id": "25b5930849c3a90f"
  },
  {
   "cell_type": "code",
   "outputs": [
    {
     "name": "stderr",
     "output_type": "stream",
     "text": [
      "Created a chunk of size 106, which is longer than the specified 100\n",
      "Created a chunk of size 104, which is longer than the specified 100\n",
      "Created a chunk of size 101, which is longer than the specified 100\n",
      "Created a chunk of size 128, which is longer than the specified 100\n",
      "Created a chunk of size 116, which is longer than the specified 100\n",
      "Created a chunk of size 109, which is longer than the specified 100\n",
      "Created a chunk of size 109, which is longer than the specified 100\n",
      "Created a chunk of size 113, which is longer than the specified 100\n",
      "Created a chunk of size 106, which is longer than the specified 100\n",
      "Created a chunk of size 143, which is longer than the specified 100\n",
      "Created a chunk of size 111, which is longer than the specified 100\n",
      "Created a chunk of size 214, which is longer than the specified 100\n",
      "Created a chunk of size 102, which is longer than the specified 100\n",
      "Created a chunk of size 106, which is longer than the specified 100\n",
      "Created a chunk of size 119, which is longer than the specified 100\n",
      "Created a chunk of size 107, which is longer than the specified 100\n",
      "Created a chunk of size 108, which is longer than the specified 100\n",
      "Created a chunk of size 107, which is longer than the specified 100\n",
      "Created a chunk of size 103, which is longer than the specified 100\n",
      "Created a chunk of size 102, which is longer than the specified 100\n",
      "Created a chunk of size 108, which is longer than the specified 100\n",
      "Created a chunk of size 129, which is longer than the specified 100\n",
      "Created a chunk of size 112, which is longer than the specified 100\n",
      "Created a chunk of size 128, which is longer than the specified 100\n",
      "Created a chunk of size 128, which is longer than the specified 100\n",
      "Created a chunk of size 110, which is longer than the specified 100\n",
      "Created a chunk of size 129, which is longer than the specified 100\n",
      "Created a chunk of size 110, which is longer than the specified 100\n",
      "Created a chunk of size 138, which is longer than the specified 100\n",
      "Created a chunk of size 119, which is longer than the specified 100\n",
      "Created a chunk of size 126, which is longer than the specified 100\n",
      "Created a chunk of size 124, which is longer than the specified 100\n",
      "Created a chunk of size 128, which is longer than the specified 100\n",
      "Created a chunk of size 127, which is longer than the specified 100\n",
      "Created a chunk of size 110, which is longer than the specified 100\n",
      "Created a chunk of size 111, which is longer than the specified 100\n",
      "Created a chunk of size 109, which is longer than the specified 100\n",
      "Created a chunk of size 111, which is longer than the specified 100\n",
      "Created a chunk of size 116, which is longer than the specified 100\n",
      "Created a chunk of size 115, which is longer than the specified 100\n",
      "Created a chunk of size 107, which is longer than the specified 100\n",
      "Created a chunk of size 121, which is longer than the specified 100\n",
      "Created a chunk of size 170, which is longer than the specified 100\n",
      "Created a chunk of size 109, which is longer than the specified 100\n",
      "Created a chunk of size 118, which is longer than the specified 100\n",
      "Created a chunk of size 103, which is longer than the specified 100\n",
      "Created a chunk of size 116, which is longer than the specified 100\n",
      "Created a chunk of size 114, which is longer than the specified 100\n",
      "Created a chunk of size 139, which is longer than the specified 100\n",
      "Created a chunk of size 112, which is longer than the specified 100\n",
      "Created a chunk of size 130, which is longer than the specified 100\n",
      "Created a chunk of size 104, which is longer than the specified 100\n",
      "Created a chunk of size 114, which is longer than the specified 100\n",
      "Created a chunk of size 113, which is longer than the specified 100\n",
      "Created a chunk of size 115, which is longer than the specified 100\n",
      "Created a chunk of size 115, which is longer than the specified 100\n",
      "Created a chunk of size 114, which is longer than the specified 100\n",
      "Created a chunk of size 106, which is longer than the specified 100\n",
      "Created a chunk of size 138, which is longer than the specified 100\n",
      "Created a chunk of size 115, which is longer than the specified 100\n",
      "Created a chunk of size 112, which is longer than the specified 100\n",
      "Created a chunk of size 104, which is longer than the specified 100\n",
      "Created a chunk of size 114, which is longer than the specified 100\n",
      "Created a chunk of size 124, which is longer than the specified 100\n",
      "Created a chunk of size 153, which is longer than the specified 100\n",
      "Created a chunk of size 103, which is longer than the specified 100\n",
      "Created a chunk of size 122, which is longer than the specified 100\n",
      "Created a chunk of size 114, which is longer than the specified 100\n",
      "Created a chunk of size 145, which is longer than the specified 100\n",
      "Created a chunk of size 137, which is longer than the specified 100\n",
      "Created a chunk of size 152, which is longer than the specified 100\n",
      "Created a chunk of size 135, which is longer than the specified 100\n",
      "Created a chunk of size 116, which is longer than the specified 100\n",
      "Created a chunk of size 114, which is longer than the specified 100\n",
      "Created a chunk of size 107, which is longer than the specified 100\n",
      "Created a chunk of size 114, which is longer than the specified 100\n",
      "Created a chunk of size 183, which is longer than the specified 100\n",
      "Created a chunk of size 114, which is longer than the specified 100\n",
      "Created a chunk of size 102, which is longer than the specified 100\n",
      "Created a chunk of size 113, which is longer than the specified 100\n",
      "Created a chunk of size 114, which is longer than the specified 100\n",
      "Created a chunk of size 124, which is longer than the specified 100\n",
      "Created a chunk of size 112, which is longer than the specified 100\n",
      "Created a chunk of size 115, which is longer than the specified 100\n",
      "Created a chunk of size 118, which is longer than the specified 100\n",
      "Created a chunk of size 126, which is longer than the specified 100\n",
      "Created a chunk of size 113, which is longer than the specified 100\n",
      "Created a chunk of size 128, which is longer than the specified 100\n",
      "Created a chunk of size 128, which is longer than the specified 100\n",
      "Created a chunk of size 114, which is longer than the specified 100\n",
      "Created a chunk of size 118, which is longer than the specified 100\n",
      "Created a chunk of size 101, which is longer than the specified 100\n",
      "Created a chunk of size 102, which is longer than the specified 100\n",
      "Created a chunk of size 102, which is longer than the specified 100\n",
      "Created a chunk of size 156, which is longer than the specified 100\n",
      "Created a chunk of size 126, which is longer than the specified 100\n",
      "Created a chunk of size 102, which is longer than the specified 100\n",
      "Created a chunk of size 146, which is longer than the specified 100\n",
      "Created a chunk of size 111, which is longer than the specified 100\n",
      "Created a chunk of size 102, which is longer than the specified 100\n",
      "Created a chunk of size 124, which is longer than the specified 100\n",
      "Created a chunk of size 107, which is longer than the specified 100\n",
      "Created a chunk of size 101, which is longer than the specified 100\n",
      "Created a chunk of size 132, which is longer than the specified 100\n",
      "Created a chunk of size 150, which is longer than the specified 100\n",
      "Created a chunk of size 112, which is longer than the specified 100\n",
      "Created a chunk of size 111, which is longer than the specified 100\n",
      "Created a chunk of size 101, which is longer than the specified 100\n",
      "Created a chunk of size 106, which is longer than the specified 100\n",
      "Created a chunk of size 106, which is longer than the specified 100\n",
      "Created a chunk of size 139, which is longer than the specified 100\n",
      "Created a chunk of size 113, which is longer than the specified 100\n",
      "Created a chunk of size 111, which is longer than the specified 100\n",
      "Created a chunk of size 152, which is longer than the specified 100\n",
      "Created a chunk of size 116, which is longer than the specified 100\n",
      "Created a chunk of size 114, which is longer than the specified 100\n",
      "Created a chunk of size 149, which is longer than the specified 100\n",
      "Created a chunk of size 135, which is longer than the specified 100\n",
      "Created a chunk of size 101, which is longer than the specified 100\n",
      "Created a chunk of size 104, which is longer than the specified 100\n",
      "Created a chunk of size 101, which is longer than the specified 100\n",
      "Created a chunk of size 122, which is longer than the specified 100\n",
      "Created a chunk of size 125, which is longer than the specified 100\n",
      "Created a chunk of size 115, which is longer than the specified 100\n",
      "Created a chunk of size 123, which is longer than the specified 100\n",
      "Created a chunk of size 121, which is longer than the specified 100\n",
      "Created a chunk of size 118, which is longer than the specified 100\n",
      "Created a chunk of size 150, which is longer than the specified 100\n",
      "Created a chunk of size 110, which is longer than the specified 100\n",
      "Created a chunk of size 103, which is longer than the specified 100\n",
      "Created a chunk of size 104, which is longer than the specified 100\n",
      "Created a chunk of size 141, which is longer than the specified 100\n",
      "Created a chunk of size 121, which is longer than the specified 100\n",
      "Created a chunk of size 124, which is longer than the specified 100\n",
      "Created a chunk of size 126, which is longer than the specified 100\n",
      "Created a chunk of size 121, which is longer than the specified 100\n",
      "Created a chunk of size 117, which is longer than the specified 100\n",
      "Created a chunk of size 124, which is longer than the specified 100\n",
      "Created a chunk of size 125, which is longer than the specified 100\n",
      "Created a chunk of size 103, which is longer than the specified 100\n",
      "Created a chunk of size 124, which is longer than the specified 100\n",
      "Created a chunk of size 118, which is longer than the specified 100\n",
      "Created a chunk of size 135, which is longer than the specified 100\n",
      "Created a chunk of size 118, which is longer than the specified 100\n",
      "Created a chunk of size 112, which is longer than the specified 100\n",
      "Created a chunk of size 110, which is longer than the specified 100\n",
      "Created a chunk of size 109, which is longer than the specified 100\n",
      "Created a chunk of size 124, which is longer than the specified 100\n",
      "Created a chunk of size 145, which is longer than the specified 100\n",
      "Created a chunk of size 163, which is longer than the specified 100\n",
      "Created a chunk of size 115, which is longer than the specified 100\n",
      "Created a chunk of size 104, which is longer than the specified 100\n",
      "Created a chunk of size 113, which is longer than the specified 100\n",
      "Created a chunk of size 144, which is longer than the specified 100\n",
      "Created a chunk of size 111, which is longer than the specified 100\n",
      "Created a chunk of size 125, which is longer than the specified 100\n",
      "Created a chunk of size 115, which is longer than the specified 100\n",
      "Created a chunk of size 111, which is longer than the specified 100\n",
      "Created a chunk of size 138, which is longer than the specified 100\n",
      "Created a chunk of size 123, which is longer than the specified 100\n",
      "Created a chunk of size 112, which is longer than the specified 100\n",
      "Created a chunk of size 143, which is longer than the specified 100\n",
      "Created a chunk of size 104, which is longer than the specified 100\n",
      "Created a chunk of size 141, which is longer than the specified 100\n",
      "Created a chunk of size 102, which is longer than the specified 100\n",
      "Created a chunk of size 107, which is longer than the specified 100\n",
      "Created a chunk of size 157, which is longer than the specified 100\n",
      "Created a chunk of size 150, which is longer than the specified 100\n",
      "Created a chunk of size 108, which is longer than the specified 100\n",
      "Created a chunk of size 129, which is longer than the specified 100\n",
      "Created a chunk of size 125, which is longer than the specified 100\n",
      "C:\\Users\\HP\\.conda\\envs\\langchainDemo\\Lib\\site-packages\\langchain\\chains\\retrieval_qa\\base.py:256: UserWarning: `VectorDBQA` is deprecated - please use `from langchain.chains import RetrievalQA`\n",
      "  warnings.warn(\n",
      "C:\\Users\\HP\\.conda\\envs\\langchainDemo\\Lib\\site-packages\\langchain_core\\_api\\deprecation.py:117: LangChainDeprecationWarning: The function `__call__` was deprecated in LangChain 0.1.0 and will be removed in 0.2.0. Use invoke instead.\n",
      "  warn_deprecated(\n"
     ]
    },
    {
     "name": "stdout",
     "output_type": "stream",
     "text": [
      "{'query': '科大讯飞今年第一季度收入是多少？', 'result': ' 126.5亿人民币', 'source_documents': [Document(page_content='虽然收入增加了不少，但在这一点上，科大讯飞的高层也坦言，与过去几个财季相比，第一个财季的收入增加谏度明显慢了下来，这其中最重要的一个因到了病毒的冲击，导致了国内不少工程进度推迟，在讯飞的智能教育商业计划中，第一季度有18个左右的延期，合约金额接近16个，另外，安徽皆方面，调，在第三季度内，大部分大型工程的投标都已经停止，这也是造成今年第三季度，科大讯飞收入的增幅低于预计的主要因素。', metadata={'source': 'data\\\\keda.txt'}), Document(page_content='科大讯飞前三季营收曝光，用AI赋能企业转型推出了多款Saas产品', metadata={'source': 'data\\\\keda.txt'}), Document(page_content='而在十月二十八日晚上，在一份关于科技的报告中，复旦讯飞公布了2022年第三季度的财报。据财报，今年第一季度科技讯飞的收入为126.5亿人民币公司在应对新冠肺炎疫情的过程中，在其核心产业领域，持续取得了较好的发展。', metadata={'source': 'data\\\\keda.txt'}), Document(page_content='据该份财报，截至今年第二季度，科技讯飞的营运资金净流入率较去年增加百分之三十二，虽然受到了严峻的经济形势影响，但科技讯飞的营运资金和营势头。', metadata={'source': 'data\\\\keda.txt'})]}\n"
     ]
    }
   ],
   "source": [
    "from langchain.embeddings.openai import OpenAIEmbeddings\n",
    "from langchain.vectorstores import Chroma\n",
    "from langchain.text_splitter import CharacterTextSplitter\n",
    "from langchain import OpenAI,VectorDBQA\n",
    "from langchain.document_loaders import DirectoryLoader\n",
    "from langchain.chains import RetrievalQA\n",
    "\n",
    "# 加载文件夹中的所有txt类型的文件\n",
    "loader = DirectoryLoader('./data/', glob='**/*.txt')\n",
    "# 将数据转成 document 对象，每个文件会作为一个 document\n",
    "documents = loader.load()\n",
    "\n",
    "# 初始化加载器\n",
    "text_splitter = CharacterTextSplitter(chunk_size=100, chunk_overlap=0)\n",
    "# 切割加载的 document\n",
    "split_docs = text_splitter.split_documents(documents)\n",
    "\n",
    "# 初始化 openai 的 embeddings 对象\n",
    "embeddings = OpenAIEmbeddings()\n",
    "# 将 document 通过 openai 的 embeddings 对象计算 embedding向量信息并临时存入 Chroma 向量数据库，用于后续匹配查询\n",
    "docsearch = Chroma.from_documents(split_docs, embeddings)\n",
    "\n",
    "# 创建问答对象\n",
    "qa = VectorDBQA.from_chain_type(llm=OpenAI(), chain_type=\"stuff\", vectorstore=docsearch,return_source_documents=True)\n",
    "# 进行问答\n",
    "result = qa({\"query\": \"科大讯飞今年第一季度收入是多少？\"})\n",
    "print(result)"
   ],
   "metadata": {
    "collapsed": false,
    "ExecuteTime": {
     "end_time": "2024-03-15T03:16:11.514642300Z",
     "start_time": "2024-03-15T03:15:47.540058600Z"
    }
   },
   "id": "d3e72aef35cb6f0c",
   "execution_count": 35
  },
  {
   "cell_type": "markdown",
   "source": [
    "### 执行多个chain"
   ],
   "metadata": {
    "collapsed": false
   },
   "id": "84f43da962c2359f"
  },
  {
   "cell_type": "code",
   "outputs": [
    {
     "name": "stdout",
     "output_type": "stream",
     "text": [
      "\n",
      "\n",
      "\u001B[1m> Entering new SimpleSequentialChain chain...\u001B[0m\n",
      "\u001B[36;1m\u001B[1;3mOne classic dish from Rome is Cacio e Pepe, a simple yet flavorful pasta dish made with only three ingredients: pasta, pecorino cheese, and black pepper. The name literally translates to \"cheese and pepper\" in Italian. The cheese is melted into a creamy sauce using the starchy pasta water, and the black pepper gives a spicy punch to the dish. Cacio e Pepe is a staple in Roman cuisine and can be found at many traditional trattorias in the city.\u001B[0m\n",
      "\u001B[33;1m\u001B[1;3mIngredients:\n",
      "- 1 pound of spaghetti or bucatini pasta\n",
      "- 1 cup of grated pecorino cheese\n",
      "- 1-2 tablespoons of freshly ground black pepper\n",
      "\n",
      "Instructions:\n",
      "1. Cook the pasta in a large pot of boiling salted water according to package instructions until al dente.\n",
      "2. While the pasta is cooking, heat a large pan over medium heat and add the freshly ground black pepper. Toast for 1-2 minutes until fragrant.\n",
      "3. Reserve 1 cup of the starchy pasta water before draining the pasta. This will be used to make the sauce.\n",
      "4. Drain the pasta and add it to the pan with the black pepper. Gradually add the grated pecorino cheese, stirring continuously, until the cheese melts and forms a creamy sauce. If the sauce is too thick, add some of the reserved pasta water.\n",
      "5. Serve the cacio e pepe immediately, topped with some extra black pepper and grated pecorino cheese if desired. Enjoy! \u001B[0m\n",
      "\n",
      "\u001B[1m> Finished chain.\u001B[0m\n"
     ]
    }
   ],
   "source": [
    "from langchain.llms import OpenAI\n",
    "from langchain.chains import LLMChain\n",
    "from langchain.prompts import PromptTemplate\n",
    "from langchain.chains import SimpleSequentialChain\n",
    "\n",
    "# location 链\n",
    "llm = OpenAI(temperature=1)\n",
    "template = \"\"\"Your job is to come up with a classic dish from the area that the users suggests.\n",
    "% USER LOCATION\n",
    "{user_location}\n",
    "\n",
    "YOUR RESPONSE:\n",
    "\"\"\"\n",
    "prompt_template = PromptTemplate(input_variables=[\"user_location\"], template=template)\n",
    "location_chain = LLMChain(llm=llm, prompt=prompt_template)\n",
    "\n",
    "# meal 链\n",
    "template = \"\"\"Given a meal, give a short and simple recipe on how to make that dish at home.\n",
    "% MEAL\n",
    "{user_meal}\n",
    "\n",
    "YOUR RESPONSE:\n",
    "\"\"\"\n",
    "prompt_template = PromptTemplate(input_variables=[\"user_meal\"], template=template)\n",
    "meal_chain = LLMChain(llm=llm, prompt=prompt_template)\n",
    "\n",
    "# 通过 SimpleSequentialChain 串联起来，第一个答案会被替换第二个中的user_meal，然后再进行询问\n",
    "overall_chain = SimpleSequentialChain(chains=[location_chain, meal_chain], verbose=True)\n",
    "review = overall_chain.run(\"Rome\")"
   ],
   "metadata": {
    "collapsed": false,
    "ExecuteTime": {
     "end_time": "2024-03-15T03:17:08.395015200Z",
     "start_time": "2024-03-15T03:17:01.804691Z"
    }
   },
   "id": "5908d24a424d2f9a",
   "execution_count": 36
  },
  {
   "cell_type": "markdown",
   "source": [
    "### 结构化输出"
   ],
   "metadata": {
    "collapsed": false
   },
   "id": "998b0f7f2cb9d192"
  },
  {
   "cell_type": "code",
   "outputs": [
    {
     "data": {
      "text/plain": "{'bad_string': 'welcom to califonya!', 'good_string': 'Welcome to California!'}"
     },
     "execution_count": 39,
     "metadata": {},
     "output_type": "execute_result"
    }
   ],
   "source": [
    "from langchain.output_parsers import StructuredOutputParser, ResponseSchema\n",
    "from langchain.prompts import PromptTemplate\n",
    "from langchain.llms import OpenAI\n",
    "\n",
    "llm = OpenAI(temperature=0.5)\n",
    "\n",
    "# 告诉他我们生成的内容需要哪些字段，每个字段类型式啥\n",
    "response_schemas = [\n",
    "    ResponseSchema(name=\"bad_string\", description=\"This a poorly formatted user input string\"),\n",
    "    ResponseSchema(name=\"good_string\", description=\"This is your response, a reformatted response\")\n",
    "]\n",
    "\n",
    "# 初始化解析器\n",
    "output_parser = StructuredOutputParser.from_response_schemas(response_schemas)\n",
    "\n",
    "# 生成的格式提示符\n",
    "# {\n",
    "#\t\"bad_string\": string  // This a poorly formatted user input string\n",
    "#\t\"good_string\": string  // This is your response, a reformatted response\n",
    "#}\n",
    "format_instructions = output_parser.get_format_instructions()\n",
    "\n",
    "template = \"\"\"\n",
    "You will be given a poorly formatted string from a user.\n",
    "Reformat it and make sure all the words are spelled correctly\n",
    "\n",
    "{format_instructions}\n",
    "\n",
    "% USER INPUT:\n",
    "{user_input}\n",
    "\n",
    "YOUR RESPONSE:\n",
    "\"\"\"\n",
    "\n",
    "# 讲我们的格式描述嵌入到 prompt 中去，告诉 llm 我们需要他输出什么样格式的内容\n",
    "prompt = PromptTemplate(\n",
    "    input_variables=[\"user_input\"],\n",
    "    partial_variables={\"format_instructions\": format_instructions},\n",
    "    template=template\n",
    ")\n",
    "\n",
    "promptValue = prompt.format(user_input=\"welcom to califonya!\")\n",
    "llm_output = llm(promptValue)\n",
    "\n",
    "# 使用解析器进行解析生成的内容\n",
    "output_parser.parse(llm_output)"
   ],
   "metadata": {
    "collapsed": false,
    "ExecuteTime": {
     "end_time": "2024-03-15T03:19:54.612726100Z",
     "start_time": "2024-03-15T03:19:52.115208100Z"
    }
   },
   "id": "6824405b49d5c4da",
   "execution_count": 39
  },
  {
   "cell_type": "markdown",
   "source": [
    "### 网页爬取"
   ],
   "metadata": {
    "collapsed": false
   },
   "id": "820a3943bdf44317"
  },
  {
   "cell_type": "code",
   "outputs": [
    {
     "name": "stdout",
     "output_type": "stream",
     "text": [
      "\n",
      "{\n",
      "  \"company_name\":\"贵州茅台酒股份有限公司\",\n",
      "  \"company_english_name\":\"Kweichow Moutai Co.,Ltd.\",\n",
      "  \"issue_price\":\"31.39\",\n",
      "  \"date_of_establishment\":\"1999-11-20\",\n",
      "  \"registered_capital\":\"125620万元(CNY)\",\n",
      "  \"office_address\":\"贵州省仁怀市茅台镇\",\n",
      "  \"Company_profile\":\"公司是根据贵州省人民政府黔府函〔1999〕291号文,由中国贵州茅台酒厂有限责任公司作为主发起人,联合贵州茅台酒厂技术开发公司、贵州省轻纺集体工业联社、深圳清华大学研究院、中国食品发酵工业研究院、北京市糖业烟酒公司、江苏省糖烟酒总公司、上海\n"
     ]
    }
   ],
   "source": [
    "from langchain.prompts import PromptTemplate\n",
    "from langchain.llms import OpenAI\n",
    "from langchain.chains import LLMRequestsChain, LLMChain\n",
    "\n",
    "llm = OpenAI( temperature=0)\n",
    "\n",
    "template = \"\"\"在 >>> 和 <<< 之间是网页的返回的HTML内容。\n",
    "网页是新浪财经A股上市公司的公司简介。\n",
    "请抽取参数请求的信息。\n",
    "\n",
    ">>> {requests_result} <<<\n",
    "请使用如下的JSON格式返回数据\n",
    "{{\n",
    "  \"company_name\":\"a\",\n",
    "  \"company_english_name\":\"b\",\n",
    "  \"issue_price\":\"c\",\n",
    "  \"date_of_establishment\":\"d\",\n",
    "  \"registered_capital\":\"e\",\n",
    "  \"office_address\":\"f\",\n",
    "  \"Company_profile\":\"g\"\n",
    "\n",
    "}}\n",
    "Extracted:\"\"\"\n",
    "\n",
    "prompt = PromptTemplate(\n",
    "    input_variables=[\"requests_result\"],\n",
    "    template=template\n",
    ")\n",
    "\n",
    "chain = LLMRequestsChain(llm_chain=LLMChain(llm=llm, prompt=prompt))\n",
    "inputs = {\n",
    "  \"url\": \"https://vip.stock.finance.sina.com.cn/corp/go.php/vCI_CorpInfo/stockid/600519.phtml\"\n",
    "}\n",
    "\n",
    "response = chain(inputs)\n",
    "print(response['output'])"
   ],
   "metadata": {
    "collapsed": false,
    "ExecuteTime": {
     "end_time": "2024-03-15T03:20:43.491445900Z",
     "start_time": "2024-03-15T03:20:37.224553400Z"
    }
   },
   "id": "bebe2aa9f1014946",
   "execution_count": 41
  },
  {
   "cell_type": "markdown",
   "source": [
    "### tools 自定义工具"
   ],
   "metadata": {
    "collapsed": false
   },
   "id": "9ff3af9f9963ca54"
  },
  {
   "cell_type": "code",
   "outputs": [
    {
     "name": "stderr",
     "output_type": "stream",
     "text": [
      "C:\\Users\\HP\\.conda\\envs\\langchainDemo\\Lib\\site-packages\\langchain\\chains\\llm_math\\base.py:57: UserWarning: Directly instantiating an LLMMathChain with an llm is deprecated. Please instantiate with llm_chain argument or using the from_llm class method.\n",
      "  warnings.warn(\n"
     ]
    },
    {
     "name": "stdout",
     "output_type": "stream",
     "text": [
      "\n",
      "\n",
      "\u001B[1m> Entering new AgentExecutor chain...\u001B[0m\n",
      "\u001B[32;1m\u001B[1;3m I should use the search tool to find information about Leo DiCaprio's girlfriend.\n",
      "Action: Search\n",
      "Action Input: \"Leo DiCaprio girlfriend\"\u001B[0m\n",
      "Observation: \u001B[36;1m\u001B[1;3mModel Vittoria Ceretti, who is dating Leonardo DiCaprio, landed an Elle cover story to talk about modeling and not talk about Leo. The 49-year-old actor only warrants one mention in the piece about his 25-year-old girlfriend.\u001B[0m\n",
      "Thought:\u001B[32;1m\u001B[1;3m I should use the calculator to calculate her current age raised to the 0.43 power.\n",
      "Action: Calculator\n",
      "Action Input: 25^0.43\u001B[0m\n",
      "\n",
      "\u001B[1m> Entering new LLMMathChain chain...\u001B[0m\n",
      "25^0.43\u001B[32;1m\u001B[1;3m```text\n",
      "25**0.43\n",
      "```\n",
      "...numexpr.evaluate(\"25**0.43\")...\n",
      "\u001B[0m\n",
      "Answer: \u001B[33;1m\u001B[1;3m3.991298452658078\u001B[0m\n",
      "\u001B[1m> Finished chain.\u001B[0m\n",
      "\n",
      "Observation: \u001B[33;1m\u001B[1;3mAnswer: 3.991298452658078\u001B[0m\n",
      "Thought:\u001B[32;1m\u001B[1;3m I now know the final answer.\n",
      "Final Answer: 3.991298452658078\u001B[0m\n",
      "\n",
      "\u001B[1m> Finished chain.\u001B[0m\n"
     ]
    },
    {
     "data": {
      "text/plain": "'3.991298452658078'"
     },
     "execution_count": 43,
     "metadata": {},
     "output_type": "execute_result"
    }
   ],
   "source": [
    "from langchain.agents import initialize_agent, Tool\n",
    "from langchain.agents import AgentType\n",
    "from langchain.tools import BaseTool\n",
    "from langchain.llms import OpenAI\n",
    "from langchain import LLMMathChain, SerpAPIWrapper\n",
    "\n",
    "llm = OpenAI(temperature=0)\n",
    "\n",
    "# 初始化搜索链和计算链\n",
    "search = SerpAPIWrapper()\n",
    "llm_math_chain = LLMMathChain(llm=llm, verbose=True)\n",
    "\n",
    "# 生成一个功能列表，指明这个 agent 里面都有哪些可用工具\n",
    "tools = [\n",
    "    Tool(\n",
    "        name = \"Search\",\n",
    "        func=search.run,\n",
    "        description=\"useful for when you need to answer questions about current events\"\n",
    "    ),\n",
    "    Tool(\n",
    "        name=\"Calculator\",\n",
    "        func=llm_math_chain.run,\n",
    "        description=\"useful for when you need to answer questions about math\"\n",
    "    )\n",
    "]\n",
    "\n",
    "# 初始化 agent\n",
    "agent = initialize_agent(tools, llm, agent=AgentType.ZERO_SHOT_REACT_DESCRIPTION, verbose=True)\n",
    "\n",
    "# 执行 agent\n",
    "agent.run(\"Who is Leo DiCaprio's girlfriend? What is her current age raised to the 0.43 power?\")"
   ],
   "metadata": {
    "collapsed": false,
    "ExecuteTime": {
     "end_time": "2024-03-15T03:21:49.002546Z",
     "start_time": "2024-03-15T03:21:39.876749100Z"
    }
   },
   "id": "d6cb4bf6bd321126",
   "execution_count": 43
  },
  {
   "cell_type": "markdown",
   "source": [
    "### 带记忆功能的机器人"
   ],
   "metadata": {
    "collapsed": false
   },
   "id": "fe2004686747f861"
  },
  {
   "cell_type": "code",
   "outputs": [
    {
     "name": "stderr",
     "output_type": "stream",
     "text": [
      "C:\\Users\\HP\\.conda\\envs\\langchainDemo\\Lib\\site-packages\\langchain_core\\_api\\deprecation.py:117: LangChainDeprecationWarning: The class `langchain_community.chat_models.openai.ChatOpenAI` was deprecated in langchain-community 0.0.10 and will be removed in 0.2.0. An updated version of the class exists in the langchain-openai package and should be used instead. To use it run `pip install -U langchain-openai` and import as `from langchain_openai import ChatOpenAI`.\n",
      "  warn_deprecated(\n",
      "C:\\Users\\HP\\.conda\\envs\\langchainDemo\\Lib\\site-packages\\langchain_core\\_api\\deprecation.py:117: LangChainDeprecationWarning: The function `__call__` was deprecated in LangChain 0.1.7 and will be removed in 0.2.0. Use invoke instead.\n",
      "  warn_deprecated(\n"
     ]
    },
    {
     "name": "stdout",
     "output_type": "stream",
     "text": [
      "content='中国的首都是北京。' response_metadata={'finish_reason': 'stop', 'logprobs': None}\n"
     ]
    }
   ],
   "source": [
    "from langchain.memory import ChatMessageHistory\n",
    "from langchain.chat_models import ChatOpenAI\n",
    "\n",
    "chat = ChatOpenAI(temperature=0)\n",
    "\n",
    "# 初始化 MessageHistory 对象\n",
    "history = ChatMessageHistory()\n",
    "\n",
    "# 给 MessageHistory 对象添加对话内容\n",
    "history.add_ai_message(\"你好！\")\n",
    "history.add_user_message(\"中国的首都是哪里？\")\n",
    "\n",
    "# 执行对话\n",
    "ai_response = chat(history.messages)\n",
    "print(ai_response)"
   ],
   "metadata": {
    "collapsed": false,
    "ExecuteTime": {
     "end_time": "2024-03-15T03:22:37.560906700Z",
     "start_time": "2024-03-15T03:22:30.556852500Z"
    }
   },
   "id": "673f8cfafcdfab37",
   "execution_count": 44
  },
  {
   "cell_type": "code",
   "outputs": [],
   "source": [],
   "metadata": {
    "collapsed": false
   },
   "id": "22af199974de559a"
  }
 ],
 "metadata": {
  "kernelspec": {
   "display_name": "Python 3",
   "language": "python",
   "name": "python3"
  },
  "language_info": {
   "codemirror_mode": {
    "name": "ipython",
    "version": 2
   },
   "file_extension": ".py",
   "mimetype": "text/x-python",
   "name": "python",
   "nbconvert_exporter": "python",
   "pygments_lexer": "ipython2",
   "version": "2.7.6"
  }
 },
 "nbformat": 4,
 "nbformat_minor": 5
}
